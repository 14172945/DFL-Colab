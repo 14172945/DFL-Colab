{
  "nbformat": 4,
  "nbformat_minor": 0,
  "metadata": {
    "colab": {
      "name": "DFL_Colab_Demo_2.0.ipynb",
      "version": "0.3.2",
      "provenance": [],
      "collapsed_sections": [
        "JuVn21kt40Gw",
        "6jHv35sm-Qiy",
        "tUNVcbujhm00",
        "WTuyUxgdLA13",
        "avAcSL_uvtq_",
        "f7GNQ7kZx7Ha"
      ],
      "toc_visible": true
    },
    "kernelspec": {
      "name": "python3",
      "display_name": "Python 3"
    },
    "accelerator": "GPU"
  },
  "cells": [
    {
      "metadata": {
        "id": "0cKdTCuv4tXh",
        "colab_type": "text"
      },
      "cell_type": "markdown",
      "source": [
        "# Welcome to DFL-Colab!\n",
        "\n",
        "It's a limited  demo of original DeepFaceLab.\n",
        "\n",
        "Version 2.0\n",
        "\n",
        "# Overview\n",
        "*   Extractor works in full functionality.\n",
        "*   Training work without preview.\n",
        "*   Converter works in full functionality.\n",
        "*   You can import/export workspace with your Google Drive.\n",
        "*   Google Colab machine active for 12 hours, so don't forget to export workspace\n",
        "\n"
      ]
    },
    {
      "metadata": {
        "id": "JuVn21kt40Gw",
        "colab_type": "text"
      },
      "cell_type": "markdown",
      "source": [
        "# Step 1. Clone Github repository and install requirements\n",
        "\n",
        "* Clone Github repository or pull updates\n",
        "* Requirements install is automatically\n",
        "* After requirements wil be install you need restart runtime (you will see button in output)"
      ]
    },
    {
      "metadata": {
        "id": "JG-f2WqT4fLK",
        "colab_type": "code",
        "cellView": "form",
        "colab": {}
      },
      "cell_type": "code",
      "source": [
        "#@title Clone or pull DeepFaceLab from Github\n",
        "\n",
        "Mode = \"clone\" #@param [\"clone\", \"pull\"]\n",
        "\n",
        "if (Mode == \"clone\"):\n",
        "  !git clone https://github.com/iperov/DeepFaceLab.git\n",
        "else:\n",
        "  %cd /content/DeepFaceLab\n",
        "  !git pull\n",
        "\n",
        "!pip install -r /content/DeepFaceLab/requirements-colab.txt\n",
        "!pip install --upgrade scikit-image"
      ],
      "execution_count": 0,
      "outputs": []
    },
    {
      "metadata": {
        "id": "6jHv35sm-Qiy",
        "colab_type": "text"
      },
      "cell_type": "markdown",
      "source": [
        "# Step 2. Upload workspace from Google Drive\n",
        "\n",
        "*   You can set filename of your workspace archive (for default: \"workspace.zip\")\n",
        "*   Inside archive you must have a dir \"workspace\""
      ]
    },
    {
      "metadata": {
        "id": "EXjZBc5D-Sbi",
        "colab_type": "code",
        "colab": {}
      },
      "cell_type": "code",
      "source": [
        "#@title Set filename to upload from Drive { form-width: \"30%\", display-mode: \"form\" }\n",
        "Filename = \"workspace.zip\" #@param {type:\"string\"}\n",
        "\n",
        "#Mount Google Drive as folder\n",
        "from google.colab import drive\n",
        "drive.mount('/content/drive', force_remount=True)\n",
        "\n",
        "#Create command\n",
        "cmd = \"/content/drive/My\\ Drive/\"+Filename+\" /content\"\n",
        "\n",
        "\n",
        "#Copy zip archive of your workspace from Drive\n",
        "%cp $cmd\n",
        "%cd \"/content\"\n",
        "!unzip $Filename\n",
        "cmd = \"/content/\"+Filename\n",
        "!rm $cmd"
      ],
      "execution_count": 0,
      "outputs": []
    },
    {
      "metadata": {
        "id": "tUNVcbujhm00",
        "colab_type": "text"
      },
      "cell_type": "markdown",
      "source": [
        "# Step 3. Extract and sorting\n",
        "* Extract frames for SRC or DST video. For default extension of file \"*.mp4\", but you can change it\n",
        "* Denoise SRC or DST video. \"Factor\" param set intesity of denoising\n",
        "*   Detect and align faces with one of detectors. (S3FD - recommended). If you need, you can get frames with debug landmarks.\n",
        "*   Export workspace to Google Drive after extract and sort it manually (Last block of Notebook)\n"
      ]
    },
    {
      "metadata": {
        "id": "qwJEbz5Nhot0",
        "colab_type": "code",
        "cellView": "form",
        "colab": {}
      },
      "cell_type": "code",
      "source": [
        "#@title Extract frames\n",
        "Video = \"data_dst.mp4\" #@param [\"data_src.mp4\", \"data_dst.mp4\"] {allow-input: true}\n",
        "\n",
        "%cd \"/content\"\n",
        "\n",
        "cmd = \"DeepFaceLab/main.py videoed extract-video\"\n",
        "\n",
        "if Video == \"data_dst.mp4\":\n",
        "  cmd+= \" --input-file workspace/data_dst.mp4 --output-dir workspace/data_dst/\"\n",
        "else:\n",
        "  cmd+= \" --input-file workspace/data_src.mp4 --output-dir workspace/data_src/\"\n",
        "  \n",
        "!python $cmd"
      ],
      "execution_count": 0,
      "outputs": []
    },
    {
      "metadata": {
        "id": "bFmPo0s2lTil",
        "colab_type": "code",
        "cellView": "form",
        "colab": {}
      },
      "cell_type": "code",
      "source": [
        "#@title Denoise frames\n",
        "Data = \"data_dst\" #@param [\"data_src\", \"data_dst\"]\n",
        "Factor = 5 #@param {type:\"slider\", min:1, max:20, step:1}\n",
        "\n",
        "cmd = \"DeepFaceLab/main.py videoed denoise-image-sequence --input-dir workspace/\"+Data+\" --factor \"+str(Factor)\n",
        "\n",
        "%cd \"/content\"\n",
        "!python $cmd"
      ],
      "execution_count": 0,
      "outputs": []
    },
    {
      "metadata": {
        "id": "nmq0Sj2bmq7d",
        "colab_type": "code",
        "cellView": "form",
        "colab": {}
      },
      "cell_type": "code",
      "source": [
        "#@title Detect faces\n",
        "Data = \"data_dst\" #@param [\"data_src\", \"data_dst\"]\n",
        "Detector = \"S3FD\" #@param [\"S3FD\", \"MT\"]\n",
        "Debug = False #@param {type:\"boolean\"}\n",
        "\n",
        "detect_type = \"s3fd\"\n",
        "if Detector == \"S3FD\":\n",
        "  detect_type = \"s3fd\"\n",
        "elif Detector == \"MT\":\n",
        "  detect_type = \"mt\"\n",
        "\n",
        "folder = \"workspace/\"+Data\n",
        "folder_align = folder+\"/aligned\"\n",
        "debug_folder = folder_align+\"/debug\"\n",
        "\n",
        "cmd = \"DeepFaceLab/main.py extract --input-dir \"+folder+\" --output-dir \"+folder_align\n",
        "\n",
        "if Debug:\n",
        "  cmd+= \" --debug-dir \"+debug_folder\n",
        "\n",
        "cmd+=\" --detector \"+detect_type\n",
        "  \n",
        "%cd \"/content\"\n",
        "!python $cmd"
      ],
      "execution_count": 0,
      "outputs": []
    },
    {
      "metadata": {
        "id": "TRNxUFE6p6Eu",
        "colab_type": "code",
        "cellView": "form",
        "colab": {}
      },
      "cell_type": "code",
      "source": [
        "#@title Sort aligned\n",
        "Data = \"data_dst\" #@param [\"data_src\", \"data_dst\"]\n",
        "sort_type = \"hist\" #@param [\"hist\", \"hist-dissim\", \"face-yaw\", \"face-pitch\", \"blur\", \"final\"]\n",
        "\n",
        "cmd = \"DeepFaceLab/main.py sort --input-dir workspace/\"+Data+\"/aligned --by \"+sort_type\n",
        "\n",
        "%cd \"/content\"\n",
        "!python $cmd"
      ],
      "execution_count": 0,
      "outputs": []
    },
    {
      "metadata": {
        "id": "WTuyUxgdLA13",
        "colab_type": "text"
      },
      "cell_type": "markdown",
      "source": [
        "# Step 4. Train model\n",
        "\n",
        "*   Choose your model type, but SAE is recommend for everyone\n",
        "*   Set model options on output field\n",
        "*   You can't get preview in output. To see preview manually download image from SAE_history.\n",
        "* Also you can see last preview if stop training and run code \"Show last preview\""
      ]
    },
    {
      "metadata": {
        "id": "Z0Kya-PJLDhv",
        "colab_type": "code",
        "cellView": "form",
        "colab": {}
      },
      "cell_type": "code",
      "source": [
        "#@title Training\n",
        "Model = \"SAE\" #@param [\"SAE\", \"H128\", \"LIAEF128\", \"DF\"]\n",
        "\n",
        "cmd = \"DeepFaceLab/main.py train --training-data-src-dir workspace/data_src/aligned --training-data-dst-dir workspace/data_dst/aligned --model-dir workspace/model --model \"+Model\n",
        "\n",
        "%cd \"/content\"\n",
        "!python $cmd"
      ],
      "execution_count": 0,
      "outputs": []
    },
    {
      "metadata": {
        "id": "m5SbXJnyvYon",
        "colab_type": "code",
        "cellView": "form",
        "colab": {}
      },
      "cell_type": "code",
      "source": [
        "#@title ##Show last preview{ vertical-output: true }\n",
        "Model = \"SAE\" #@param [\"SAE\", \"H128\", \"LIAEF128\", \"DF\"]\n",
        "\n",
        "%matplotlib inline\n",
        "import numpy as np\n",
        "import matplotlib.pyplot as plt\n",
        "import matplotlib.image as img\n",
        "import glob\n",
        "import os\n",
        "from IPython.display import clear_output\n",
        "\n",
        "list_of_files = glob.glob('/content/workspace/model/'+Model+'_history/*') # * means all if need specific format then *.csv\n",
        "img_path = max(list_of_files, key=os.path.getctime)\n",
        "\n",
        "clear_output()\n",
        "imdata = img.imread(img_path)\n",
        "plt.figure(figsize=(10,10))\n",
        "plt.axis('off')\n",
        "plt.imshow(imdata)\n",
        "plt.show()"
      ],
      "execution_count": 0,
      "outputs": []
    },
    {
      "metadata": {
        "id": "avAcSL_uvtq_",
        "colab_type": "text"
      },
      "cell_type": "markdown",
      "source": [
        "# Step 5. Convert frames"
      ]
    },
    {
      "metadata": {
        "id": "A3Y8K22Sv9Gn",
        "colab_type": "code",
        "cellView": "form",
        "colab": {}
      },
      "cell_type": "code",
      "source": [
        "#@title Convert\n",
        "Model = \"SAE\" #@param [\"SAE\", \"H128\", \"LIAEF128\", \"DF\"]\n",
        "\n",
        "cmd = \"DeepFaceLab/main.py convert --input-dir workspace/data_dst --output-dir workspace/data_dst/merged --aligned-dir workspace/data_dst/aligned --model-dir workspace/model --model \"+Model\n",
        "\n",
        "%cd \"/content\"\n",
        "!python $cmd"
      ],
      "execution_count": 0,
      "outputs": []
    },
    {
      "metadata": {
        "id": "bG0_8MrTwqK2",
        "colab_type": "code",
        "cellView": "form",
        "colab": {}
      },
      "cell_type": "code",
      "source": [
        "#@title Upload converted frames to Drive (optional)\n",
        "Archive_name = \"workspace_merged.zip\" #@param {type:\"string\"}\n",
        "\n",
        "cmd_zip = \"-r \"+Archive_name+\" workspace/data_dst/merged\"\n",
        "cmd = \"/content/\"+Archive_name+\" /content/drive/My\\ Drive/\"\n",
        "\n",
        "!zip $cmd_zip\n",
        "!cp $cmd"
      ],
      "execution_count": 0,
      "outputs": []
    },
    {
      "metadata": {
        "id": "JNeGfiZpxlnz",
        "colab_type": "code",
        "cellView": "form",
        "colab": {}
      },
      "cell_type": "code",
      "source": [
        "#@title Get result video and copy to Drive \n",
        "\n",
        "!python DeepFaceLab/main.py videoed video-from-sequence --input-dir workspace/data_dst/merged --output-file workspace/result.mp4 --reference-file workspace/data_dst.mp4\n",
        "!cp /content/workspace/result.mp4 /content/drive/My\\ Drive/"
      ],
      "execution_count": 0,
      "outputs": []
    },
    {
      "metadata": {
        "id": "f7GNQ7kZx7Ha",
        "colab_type": "text"
      },
      "cell_type": "markdown",
      "source": [
        "# Other functions"
      ]
    },
    {
      "metadata": {
        "id": "tzeDFFWJyAjP",
        "colab_type": "code",
        "cellView": "form",
        "colab": {}
      },
      "cell_type": "code",
      "source": [
        "#@title Operations with workspace\n",
        "Mode = \"Delete history preview\" #@param [\"Zip and upload\", \"Delete models\", \"Delete history preview\"]\n",
        "\n",
        "if Mode == \"Zip and upload\":\n",
        "  !zip -r workspace.zip workspace\n",
        "  !cp  /content/workspace.zip /content/drive/My\\ Drive/\n",
        "elif Mode == \"Delete models\":\n",
        "  !rm -R workspace/model/*\n",
        "elif Mode == \"Delete history preview\":\n",
        "  !rm workspace/model/SAE_history/*\n",
        "  !rm workspace/model/H128_history/*\n",
        "  !rm workspace/model/LIAEF128_history/*\n",
        "  !rm workspace/model/DF_history/*"
      ],
      "execution_count": 0,
      "outputs": []
    }
  ]
}